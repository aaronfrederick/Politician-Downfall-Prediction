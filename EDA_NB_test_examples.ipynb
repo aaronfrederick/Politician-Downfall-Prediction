{
 "cells": [
  {
   "cell_type": "code",
   "execution_count": 1,
   "metadata": {
    "scrolled": false
   },
   "outputs": [],
   "source": [
    "from pymongo import MongoClient\n",
    "import pandas as pd\n",
    "from vaderSentiment.vaderSentiment import SentimentIntensityAnalyzer\n",
    "import datetime\n",
    "import matplotlib.pyplot as plt\n",
    "import seaborn as sns"
   ]
  },
  {
   "cell_type": "code",
   "execution_count": 2,
   "metadata": {},
   "outputs": [],
   "source": [
    "client = MongoClient('localhost', 27017)\n",
    "politician_db = client['politician_db']"
   ]
  },
  {
   "cell_type": "code",
   "execution_count": 3,
   "metadata": {},
   "outputs": [
    {
     "name": "stdout",
     "output_type": "stream",
     "text": [
      "yes\n"
     ]
    }
   ],
   "source": [
    "if 'tomprice' in politician_db.list_collection_names():\n",
    "    print('yes')"
   ]
  },
  {
   "cell_type": "code",
   "execution_count": 4,
   "metadata": {},
   "outputs": [],
   "source": [
    "test_col = politician_db['tomprice']"
   ]
  },
  {
   "cell_type": "code",
   "execution_count": 5,
   "metadata": {},
   "outputs": [
    {
     "data": {
      "text/plain": [
       "{'_id': '5979a65b7c459f246b61b3b0',\n",
       " 'web_url': 'https://www.nytimes.com/2017/07/27/opinion/health-care-obamacare.html',\n",
       " 'snippet': 'The Trump administration and a Republican Congress haven’t been able to repeal the Affordable Care Act, but they are doing their best to destroy it.',\n",
       " 'blog': {},\n",
       " 'source': 'The New York Times',\n",
       " 'multimedia': [{'rank': 0,\n",
       "   'subtype': 'xlarge',\n",
       "   'caption': None,\n",
       "   'credit': None,\n",
       "   'type': 'image',\n",
       "   'url': 'images/2017/07/27/opinion/27edsallWeb/27edsallWeb-articleLarge.jpg',\n",
       "   'height': 403,\n",
       "   'width': 600,\n",
       "   'legacy': {'xlargewidth': 600,\n",
       "    'xlarge': 'images/2017/07/27/opinion/27edsallWeb/27edsallWeb-articleLarge.jpg',\n",
       "    'xlargeheight': 403},\n",
       "   'subType': 'xlarge',\n",
       "   'crop_name': None},\n",
       "  {'rank': 0,\n",
       "   'subtype': 'wide',\n",
       "   'caption': None,\n",
       "   'credit': None,\n",
       "   'type': 'image',\n",
       "   'url': 'images/2017/07/27/opinion/27edsallWeb/27edsallWeb-thumbWide.jpg',\n",
       "   'height': 126,\n",
       "   'width': 190,\n",
       "   'legacy': {'wide': 'images/2017/07/27/opinion/27edsallWeb/27edsallWeb-thumbWide.jpg',\n",
       "    'widewidth': 190,\n",
       "    'wideheight': 126},\n",
       "   'subType': 'wide',\n",
       "   'crop_name': None},\n",
       "  {'rank': 0,\n",
       "   'subtype': 'thumbnail',\n",
       "   'caption': None,\n",
       "   'credit': None,\n",
       "   'type': 'image',\n",
       "   'url': 'images/2017/07/27/opinion/27edsallWeb/27edsallWeb-thumbStandard.jpg',\n",
       "   'height': 75,\n",
       "   'width': 75,\n",
       "   'legacy': {'thumbnailheight': 75,\n",
       "    'thumbnail': 'images/2017/07/27/opinion/27edsallWeb/27edsallWeb-thumbStandard.jpg',\n",
       "    'thumbnailwidth': 75},\n",
       "   'subType': 'thumbnail',\n",
       "   'crop_name': None}],\n",
       " 'headline': {'main': 'Killing Obamacare Softly',\n",
       "  'kicker': 'Contributing Op-Ed Writer',\n",
       "  'content_kicker': 'Contributing Op-Ed Writer',\n",
       "  'print_headline': 'Killing Obamacare Softly',\n",
       "  'name': None,\n",
       "  'seo': None,\n",
       "  'sub': None},\n",
       " 'keywords': [{'name': 'subject',\n",
       "   'value': 'Patient Protection and Affordable Care Act (2010)',\n",
       "   'rank': 1,\n",
       "   'major': 'N'},\n",
       "  {'name': 'subject',\n",
       "   'value': 'Health Insurance and Managed Care',\n",
       "   'rank': 2,\n",
       "   'major': 'N'},\n",
       "  {'name': 'organizations', 'value': 'Anthem Inc', 'rank': 3, 'major': 'N'},\n",
       "  {'name': 'organizations',\n",
       "   'value': 'Center on Budget and Policy Priorities',\n",
       "   'rank': 4,\n",
       "   'major': 'N'},\n",
       "  {'name': 'organizations',\n",
       "   'value': 'Centers for Medicare and Medicaid Services',\n",
       "   'rank': 5,\n",
       "   'major': 'N'},\n",
       "  {'name': 'organizations', 'value': 'Families USA', 'rank': 6, 'major': 'N'},\n",
       "  {'name': 'organizations',\n",
       "   'value': 'Republican Party',\n",
       "   'rank': 7,\n",
       "   'major': 'N'},\n",
       "  {'name': 'persons', 'value': 'Trump, Donald J', 'rank': 8, 'major': 'N'},\n",
       "  {'name': 'persons',\n",
       "   'value': 'Price, Thomas E (1954- )',\n",
       "   'rank': 9,\n",
       "   'major': 'N'}],\n",
       " 'pub_date': '2017-07-27T08:37:37+0000',\n",
       " 'document_type': 'article',\n",
       " 'news_desk': 'OpEd',\n",
       " 'byline': {'original': 'By THOMAS B. EDSALL',\n",
       "  'person': [{'firstname': 'Thomas',\n",
       "    'middlename': None,\n",
       "    'lastname': None,\n",
       "    'qualifier': None,\n",
       "    'title': None,\n",
       "    'role': 'reported',\n",
       "    'organization': '',\n",
       "    'rank': 1}],\n",
       "  'organization': None},\n",
       " 'type_of_material': 'Op-Ed',\n",
       " 'word_count': 1623,\n",
       " 'score': 37.21825,\n",
       " 'uri': 'nyt://article/609ddd13-27b3-548b-9139-3f28a80be593',\n",
       " 'full_text': 'supported by by thomas b edsall unable  at least so far  to kill the affordable care act outright the trump administration has conducted a sustained war of attrition designed to inflict fatal damage on obamacare this war often operating below the radar entails the use of a quintessentially conservative strategy and the cooperation of congressional republicans in a way its pretty simple you cut the budget impose debilitating regulations track the subsequent missteps and then attack the program as a failure the political opportunism behind the republicans determination to undo legislation that makes federally financed health care more broadly available has deep roots democratic legislation the conservative strategist bill kristol argued after president bill clinton proposed his health care plan in  poses a serious political threat to the republican party if enacted kristol continued it will relegitimize middleclass dependence for security on government spending and regulation it will revive the reputation of the party that spends and regulates the democrats as the generous protector of middleclass interests and it will at the same time strike a punishing blow against republican claims to defend the middle class by restraining government sound familiar the kristol memo captures the reasoning and the philosophy behind the many covert and overt republican attempts to eviscerate obamacare theres a clear pattern of the administration trying to undermine and sabotage the affordable care act elizabeth hagan an associate director at families usa a liberal advocacy group told the associated press its not letting the law fail its making the law fail over its first six months in office the trump administration has used its power to dismantle the aca limb by limb  to halve the enrollment period to reduce the value of many of the aca insurance plans and somewhat spectacularly to use obamacare funds to finance a public relations drive against it most recently with little fanfare the trump administration terminated contracts for health care in person assisters in  cities including chicago dallas cleveland miami and philadelphia these assisters are personnel trained to guide obamacare applicants through the multipart aca enrollment process in april the trump administration issued a rule to increase patients health insurance choices for  that effectively reduces the value of an obamacare linchpin the premium tax credit in an email sarah lueck of the nonpartisan center on budget and policy priorities explained that this rule allows insurers in the individual market to offer plans with higher deductibles and out of pocket costs in  than have been permitted previously because of this the rule is likely to reduce the premium tax credit for many people a premium tax credit is a federal subsidy that consumers can use to lower their monthly health insurance payments a  study the center conducted in february outlines the damage that this rule inflicts on obamacare by reducing federal subsidies it found that it would raise premiums outofpocket costs or both for millions of moderateincome families in addition the rule would reduce the amount of health care that marketplace plans have to cover that would allow individualmarket insurers to offer plans with higher deductibles and other outofpocket costs than they can now sell through the marketplaces most important according to the centers analysis is the covert aspect of the rule which has the hidden impact of reducing the affordable care acts premium tax credits which help moderateincome marketplace consumers afford health care as a result the rule would force millions of families to choose between higher premiums or worse coverage louise norris one of the founders of the colorado health insurance insider has mapped out the republican strategy in an online essay  ways the gop sabotaged obamacare the attacks began on day one march   when the aca was signed into law fourteen state attorneys general  of them republicans filed suit challenging the constitutionality of the mandate requiring individuals to buy health care coverage the sole democratic attorney general involved buddy caldwell of louisiana switched into the republican party in  on june   the supreme court affirmed the constitutionality of the individual mandate but in a blow to the program norris wrote it also ruled that the federal government could not withhold medicaid funding from states that did not expand medicaid this had the effect of making the acas medicaid expansion optional which has in turn hobbled the acas progress in many states the rejection of medicaid expansion by  states  all controlled by republican governors or legislative majorities or both  to cover individuals making up to  percent of poverty level income meant that these individuals had to turn to health insurance marketplaces or private insurance risk pools the addition of low income medicaideligible individuals in these  republican states to the private aca insurance market added a less healthy and more expensivetoinsure population to the pool faced with more a costly clientele insurance companies increased premiums this gave republicans new ammunition to charge that obamacare premiums were rising a  measure sponsored by senator marco rubio republican of florida capped government spending to protect insurance companies against financial losses it too weakened obamacare the rubio amendment robert pear wrote in the times demonstrated the effectiveness of quiet legislative sabotage the assault on the program has continued unabated including in this recent tweet by tom price the secretary of health and human services perhaps most significant among republican sabotage efforts was the decision by house republicans to file suit in  challenging the constitutionality of cost sharing reductions  payments made by the federal government to insurance companies in order to lower premiums for those making less than  percent of poverty income it is these payments that make health care affordable for moderatetolowincome americans the suit went before rosemary collyer a george w bush appointee on the federal district court in washington dc in may  collyer ruled in favor of the house republicans declaring that although congress had authorized the subsidies there had never been a specific appropriation collyer did allow the federal government to continue making the payments while the decision is under appeal trump has warned that he may drop the appeal and end the subsidies  both of which he can do unilaterally  to deliver what politico called an immediate and fatal blow to the obamacare marketplaces the best thing politically is to let obamacare explode trump told the washington post on march  the program is totally the property of the democrats so that when people get a  percent increase next year or a  percent or  percent thats their fault survey data suggests that trump may be wrong about whom the public would blame the kaiser family foundation tracking poll asked voters in june whether trump and republicans or president obama and democrats would be responsible for any problems with the affordable care act going forward by nearly  voters said trump and republicans in congress would be responsible  a view shared even by republicans  for the moment the trump administration has chosen to keep the subsidies in a legal limbo putting off a decision on whether to persist with the appeal and continue paying out the subsidies by taking this ambiguous position trump has heightened uncertainty about the future of obamacare and that uncertainty has itself become a major factor in weakening the program on june  for instance anthem one of the largest obamacare providers announced that in  it would pull out of markets in wisconsin and indiana following a similar announcement two weeks earlier that it would drop coverage in ohio anthem declared that planning and pricing for acacompliant health plans has become increasingly difficult due to a shrinking and deteriorating individual market as well as continual changes and uncertainty in federal operations rules and guidance including costsharing reduction subsidies and the restoration of taxes on fully insured coverage on cue paul ryan the house speaker  and long before trump took office a leader of the efforts to undercut obamacare  declared obamacare is clearly collapsing and we have to step in before more families get hurt we are on a rescue mission to replace this collapsing law with a better system so that people have lower costs more choices and real peace of mind we need to get this done needless to say a better cheaper system failed to materialize there is no stronger voice maligning obamacare than tom price his twitter feed launches one attack after another he retweeted this foxbusiness tweet the health and human services department has the legal responsibility for administering the affordable care act but under price the department serves as a key administration weapon in efforts to discredit the aca the department has produced  videos intensely hostile to obamacare all are available to the public on youtube in an email to me tim gronniger deputy chief of staff and the director of delivery system reform at the centers for medicare and medicaid services during the obama administration characterized one of the videos as shot through with misinformation and major falsehoods in the senate this week new republican bids to ax obamacare have failed with as many as seven republicans joining a unified senate democratic caucus to reject proposal after proposal the republican defections have embittered trump at  am on wednesday the president tweeted in the event of ultimate failure on the senate floor trump and the republican congress will keep up their subterfuge and continue their underhanded way of making and unmaking policy whether the aca can survive the administrations strategy of death by  cuts whether any plan delivering quality health care at an affordable price could survive a relentless assault like this remains an open question i invite you to follow me on twitter edsall follow the new york times opinion section on facebook and twitter nytopinion and sign up for the opinion today newsletter  advertisement'}"
      ]
     },
     "execution_count": 5,
     "metadata": {},
     "output_type": "execute_result"
    }
   ],
   "source": [
    "test_col.find_one()"
   ]
  },
  {
   "cell_type": "code",
   "execution_count": 6,
   "metadata": {},
   "outputs": [
    {
     "data": {
      "text/plain": [
       "6"
      ]
     },
     "execution_count": 6,
     "metadata": {},
     "output_type": "execute_result"
    }
   ],
   "source": [
    "scandalcount = 0\n",
    "for item in test_col.find():\n",
    "    try: \n",
    "        if 'scandal' in item['full_text']:\n",
    "            #print(item['full_text'])\n",
    "            scandalcount += 1\n",
    "    except:\n",
    "        pass\n",
    "scandalcount"
   ]
  },
  {
   "cell_type": "code",
   "execution_count": 7,
   "metadata": {},
   "outputs": [
    {
     "data": {
      "text/plain": [
       "182"
      ]
     },
     "execution_count": 7,
     "metadata": {},
     "output_type": "execute_result"
    }
   ],
   "source": [
    "len([item for item in politician_db['tomprice'].find()])"
   ]
  },
  {
   "cell_type": "code",
   "execution_count": 8,
   "metadata": {},
   "outputs": [],
   "source": [
    "def get_sentiment(texts):\n",
    "    analyzer = SentimentIntensityAnalyzer()\n",
    "    count = 1\n",
    "    ave_sent = 0\n",
    "    for text in texts:\n",
    "        vs = analyzer.polarity_scores(text)\n",
    "        ave_sent += vs['compound']\n",
    "        count += 1\n",
    "    return ave_sent/count"
   ]
  },
  {
   "cell_type": "code",
   "execution_count": 9,
   "metadata": {},
   "outputs": [],
   "source": [
    "texts = []\n",
    "for item in politician_db['tomprice'].find():\n",
    "    texts.append(item['full_text'])"
   ]
  },
  {
   "cell_type": "code",
   "execution_count": 10,
   "metadata": {},
   "outputs": [
    {
     "data": {
      "text/plain": [
       "182"
      ]
     },
     "execution_count": 10,
     "metadata": {},
     "output_type": "execute_result"
    }
   ],
   "source": [
    "len(texts)"
   ]
  },
  {
   "cell_type": "code",
   "execution_count": 11,
   "metadata": {},
   "outputs": [
    {
     "data": {
      "text/plain": [
       "0.5562273224043716"
      ]
     },
     "execution_count": 11,
     "metadata": {},
     "output_type": "execute_result"
    }
   ],
   "source": [
    "get_sentiment(texts)"
   ]
  },
  {
   "cell_type": "code",
   "execution_count": 12,
   "metadata": {},
   "outputs": [],
   "source": [
    "def pub_date_to_datetime(s):\n",
    "    s = s[:10]\n",
    "    l = s.split('-')\n",
    "    d = datetime.date(year=int(l[0]),month=int(l[1]),day=int(l[2]))\n",
    "    return d"
   ]
  },
  {
   "cell_type": "code",
   "execution_count": 13,
   "metadata": {},
   "outputs": [],
   "source": [
    "def plot_sentiment(name):\n",
    "    tuplist = []\n",
    "    analyzer = SentimentIntensityAnalyzer()\n",
    "    for item in politician_db[name].find():\n",
    "        try:\n",
    "            sent = analyzer.polarity_scores(item['full_text'])['compound']\n",
    "            tuplist.append((pub_date_to_datetime(item['pub_date']),sent))\n",
    "        except:\n",
    "            pass\n",
    "    tuplist.sort(key=lambda x:x[0])\n",
    "    dates = []\n",
    "    aves = []\n",
    "    running_tot = 0\n",
    "    count = 0\n",
    "    for item in tuplist:\n",
    "        running_tot += item[1]\n",
    "        count += 1\n",
    "        aves.append(running_tot/count)\n",
    "        dates.append(item[0])\n",
    "    sns.lineplot(x=dates,y=aves, err_style=None)"
   ]
  },
  {
   "cell_type": "code",
   "execution_count": 14,
   "metadata": {},
   "outputs": [
    {
     "name": "stderr",
     "output_type": "stream",
     "text": [
      "/home/ubuntu/.local/lib/python3.6/site-packages/scipy/stats/stats.py:1713: FutureWarning: Using a non-tuple sequence for multidimensional indexing is deprecated; use `arr[tuple(seq)]` instead of `arr[seq]`. In the future this will be interpreted as an array index, `arr[np.array(seq)]`, which will result either in an error or a different result.\n",
      "  return np.add.reduce(sorted[indexer] * weights, axis=axis) / sumval\n"
     ]
    },
    {
     "data": {
      "image/png": "[encoded data removed]",
      "text/plain": [
       "<Figure size 432x288 with 1 Axes>"
      ]
     },
     "metadata": {
      "needs_background": "light"
     },
     "output_type": "display_data"
    }
   ],
   "source": [
    "plot_sentiment('scottpruitt')"
   ]
  },
  {
   "cell_type": "code",
   "execution_count": 15,
   "metadata": {},
   "outputs": [
    {
     "data": {
      "text/plain": [
       "dict_keys(['_id', 'web_url', 'snippet', 'blog', 'source', 'multimedia', 'headline', 'keywords', 'pub_date', 'document_type', 'news_desk', 'byline', 'type_of_material', 'word_count', 'score', 'uri', 'full_text'])"
      ]
     },
     "execution_count": 15,
     "metadata": {},
     "output_type": "execute_result"
    }
   ],
   "source": [
    "test_article = test_col.find_one()\n",
    "test_article.keys()"
   ]
  },
  {
   "cell_type": "code",
   "execution_count": 16,
   "metadata": {},
   "outputs": [
    {
     "data": {
      "text/plain": [
       "'2017-07-27T08:37:37+0000'"
      ]
     },
     "execution_count": 16,
     "metadata": {},
     "output_type": "execute_result"
    }
   ],
   "source": [
    "test_article['pub_date']"
   ]
  },
  {
   "cell_type": "code",
   "execution_count": 17,
   "metadata": {},
   "outputs": [
    {
     "data": {
      "text/plain": [
       "str"
      ]
     },
     "execution_count": 17,
     "metadata": {},
     "output_type": "execute_result"
    }
   ],
   "source": [
    "type(test_article['pub_date'])"
   ]
  },
  {
   "cell_type": "code",
   "execution_count": 18,
   "metadata": {},
   "outputs": [
    {
     "data": {
      "text/plain": [
       "datetime.date(2017, 7, 27)"
      ]
     },
     "execution_count": 18,
     "metadata": {},
     "output_type": "execute_result"
    }
   ],
   "source": [
    "pub_date_to_datetime(test_article['pub_date'])"
   ]
  },
  {
   "cell_type": "code",
   "execution_count": 19,
   "metadata": {},
   "outputs": [],
   "source": [
    "def plot_frequency(name):\n",
    "    months = []\n",
    "    for item in politician_db[name].find():\n",
    "        months.append(pub_date_to_datetime(item['pub_date']).year + pub_date_to_datetime(item['pub_date']).month/12)\n",
    "    sns.distplot(months, bins=len(set(months)))"
   ]
  },
  {
   "cell_type": "code",
   "execution_count": 20,
   "metadata": {},
   "outputs": [],
   "source": [
    "def plot_keywords(name):\n",
    "    scandalcount = 0\n",
    "    dates = []\n",
    "    counts = []\n",
    "    words_of_interest = ['scandal',\n",
    "                    'resign',\n",
    "                    'caught',\n",
    "                    'sex',\n",
    "                    'drugs',\n",
    "                    'committed',\n",
    "                    'corruption']\n",
    "    for item in politician_db[name].find():\n",
    "        try:\n",
    "            for word in item['full_text'].split():\n",
    "                if word in words_of_interest:\n",
    "                    scandalcount += 1\n",
    "            counts.append(scandalcount)\n",
    "            dates.append(pub_date_to_datetime(item['pub_date']).year + pub_date_to_datetime(item['pub_date']).month/12)\n",
    "        except:\n",
    "            pass\n",
    "    sns.lineplot(x=dates,y=counts,err_style=None)"
   ]
  },
  {
   "cell_type": "code",
   "execution_count": 21,
   "metadata": {},
   "outputs": [
    {
     "data": {
      "image/png": "[encoded data removed]",
      "text/plain": [
       "<Figure size 432x288 with 1 Axes>"
      ]
     },
     "metadata": {
      "needs_background": "light"
     },
     "output_type": "display_data"
    }
   ],
   "source": [
    "plot_keywords('lorettalynch')"
   ]
  },
  {
   "cell_type": "code",
   "execution_count": 22,
   "metadata": {},
   "outputs": [
    {
     "data": {
      "image/png": "[encoded data removed]",
      "text/plain": [
       "<Figure size 432x288 with 1 Axes>"
      ]
     },
     "metadata": {
      "needs_background": "light"
     },
     "output_type": "display_data"
    }
   ],
   "source": [
    "plot_frequency('lorettalynch')"
   ]
  },
  {
   "cell_type": "code",
   "execution_count": 23,
   "metadata": {},
   "outputs": [
    {
     "data": {
      "image/png": "[encoded data removed]",
      "text/plain": [
       "<Figure size 432x288 with 1 Axes>"
      ]
     },
     "metadata": {
      "needs_background": "light"
     },
     "output_type": "display_data"
    }
   ],
   "source": [
    "plot_sentiment('lorettalynch')"
   ]
  },
  {
   "cell_type": "code",
   "execution_count": 24,
   "metadata": {},
   "outputs": [],
   "source": [
    "def gen_plots(name):\n",
    "    plt.subplot(3,1,1)\n",
    "    plot_frequency(name)\n",
    "    #print()\n",
    "    plt.subplot(3,1,2)\n",
    "    plot_sentiment(name)\n",
    "    #print()\n",
    "    plt.subplot(3,1,3)\n",
    "    plot_keywords(name)\n",
    "    plt.show()"
   ]
  },
  {
   "cell_type": "code",
   "execution_count": 25,
   "metadata": {},
   "outputs": [
    {
     "data": {
      "image/png": "[encoded data removed]",
      "text/plain": [
       "<Figure size 432x288 with 3 Axes>"
      ]
     },
     "metadata": {
      "needs_background": "light"
     },
     "output_type": "display_data"
    }
   ],
   "source": [
    "gen_plots('scottpruitt')"
   ]
  },
  {
   "cell_type": "code",
   "execution_count": null,
   "metadata": {},
   "outputs": [],
   "source": []
  }
 ],
 "metadata": {
  "kernelspec": {
   "display_name": "Python 3",
   "language": "python",
   "name": "python3"
  },
  "language_info": {
   "codemirror_mode": {
    "name": "ipython",
    "version": 3
   },
   "file_extension": ".py",
   "mimetype": "text/x-python",
   "name": "python",
   "nbconvert_exporter": "python",
   "pygments_lexer": "ipython3",
   "version": "3.6.6"
  }
 },
 "nbformat": 4,
 "nbformat_minor": 1
}
