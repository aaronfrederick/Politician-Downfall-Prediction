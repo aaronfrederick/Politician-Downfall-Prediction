{
 "cells": [
  {
   "cell_type": "code",
   "execution_count": 1,
   "metadata": {},
   "outputs": [],
   "source": [
    "from pymongo import MongoClient\n",
    "import gensim\n",
    "from gensim import corpora, models, similarities, matutils\n",
    "import nltk\n",
    "from vaderSentiment.vaderSentiment import SentimentIntensityAnalyzer\n",
    "import numpy as np\n",
    "import pandas as pd\n",
    "from tqdm import tqdm\n",
    "import time\n",
    "import matplotlib.pyplot as plt\n",
    "import seaborn as sns\n",
    "import datetime\n",
    "from nltk.stem import WordNetLemmatizer\n",
    "import random"
   ]
  },
  {
   "cell_type": "code",
   "execution_count": 2,
   "metadata": {
    "scrolled": true
   },
   "outputs": [
    {
     "name": "stderr",
     "output_type": "stream",
     "text": [
      "100%|██████████| 57/57 [00:33<00:00,  4.49it/s]\n",
      "100%|██████████| 56/56 [00:38<00:00,  3.54it/s]\n",
      "100%|██████████| 56/56 [00:39<00:00,  1.97it/s]\n",
      "100%|██████████| 56/56 [00:41<00:00,  1.58it/s]\n",
      "100%|██████████| 56/56 [00:36<00:00,  2.73it/s]\n",
      "100%|██████████| 56/56 [00:44<00:00,  2.48it/s]\n"
     ]
    }
   ],
   "source": [
    "###  Set up texts dictionary  ###\n",
    "###  Keys - Name of Collection  ###\n",
    "###  Values - List of Texts (NYT Articles)  ###\n",
    "wordnet_lemmatizer = WordNetLemmatizer()\n",
    "texts = {}\n",
    "text_lemmas = {}\n",
    "\n",
    "db = MongoClient('localhost', 27017)['politician_db']\n",
    "collection_names = db.list_collection_names()\n",
    "\n",
    "chunks = [[],[],[],[],[],[]]\n",
    "for i, name in enumerate(collection_names):\n",
    "    for j in range(6):\n",
    "        if i%6 == j:\n",
    "            chunks[j].append(name)\n",
    "\n",
    "for chunk in chunks:\n",
    "    time.sleep(1)\n",
    "    for name in tqdm(chunk):\n",
    "        time.sleep(0.2)\n",
    "        texts[name] = []\n",
    "        text_lemmas[name] = []\n",
    "        for doc in db[name].find():\n",
    "            lemmalist = []\n",
    "            try:\n",
    "                texts[name].append(doc['full_text'])\n",
    "                for word in doc['full_text'].split():\n",
    "                    lemmalist.append(wordnet_lemmatizer.lemmatize(word))\n",
    "                text_lemmas[name].append(\" \".join(lemmalist))\n",
    "            except:\n",
    "                pass"
   ]
  },
  {
   "cell_type": "code",
   "execution_count": 3,
   "metadata": {},
   "outputs": [],
   "source": [
    "#len(list(texts.keys()))"
   ]
  },
  {
   "cell_type": "code",
   "execution_count": 4,
   "metadata": {},
   "outputs": [],
   "source": [
    "#texts['tomprice']"
   ]
  },
  {
   "cell_type": "code",
   "execution_count": 5,
   "metadata": {
    "scrolled": true
   },
   "outputs": [
    {
     "name": "stdout",
     "output_type": "stream",
     "text": [
      "jedgarhoover is a person of interest - scandal\n",
      "donaldregan is a person of interest - scandal\n",
      "williamhseward is a person of interest - sex\n",
      "garyflocke is a person of interest - sex\n",
      "jacobjlew is a person of interest - sex\n",
      "anndoremclaughlin is a person of interest - resign\n",
      "samuelkskinner is a person of interest - resign\n",
      "georgewbush is a person of interest - resign\n",
      "elainechao is a person of interest - scandal\n",
      "elizabethhdole is a person of interest - resign\n",
      "jamesspeed is a person of interest - resign\n",
      "anthonylake is a person of interest - scandal\n",
      "howardbaker is a person of interest - scandal\n",
      "williamfrenchsmith is a person of interest - resign\n",
      "malcolmbaldrige is a person of interest - drugs\n",
      "mikepompeo is a person of interest - scandal\n",
      "sylviamathewsburwell is a person of interest - sex\n",
      "lutherhhodges is a person of interest - resign\n",
      "billclinton is a person of interest - sex\n",
      "williamssessions is a person of interest - resign\n",
      "michaeloleavitt is a person of interest - drugs\n",
      "carlosmgutierrez is a person of interest - scandal\n",
      "gwilliammiller is a person of interest - resign\n",
      "leonpanetta is a person of interest - sex\n",
      "williampbarr is a person of interest - fired\n",
      "normanymineta is a person of interest - resign\n",
      "mcgeorgebundy is a person of interest - resign\n",
      "johnrbolton is a person of interest - scandal\n",
      "johnashcroft is a person of interest - resign\n",
      "otisrbowen is a person of interest - resign\n",
      "bencarson is a person of interest - scandal\n",
      "algore is a person of interest - resign\n",
      "ronaldhbrown is a person of interest - resign\n",
      "lawrencehsummers is a person of interest - resign\n",
      "janetreno is a person of interest - fired\n",
      "warrenchristopher is a person of interest - corruption\n",
      "tomprice is a person of interest - sex\n",
      "edwinmeese is a person of interest - scandal\n",
      "mikepence is a person of interest - sex\n",
      "barackobama is a person of interest - scandal\n",
      "robertmgates is a person of interest - sex\n",
      "ronaldreagan is a person of interest - scandal\n",
      "johnpoindexter is a person of interest - fired\n",
      "michaelchertoff is a person of interest - mistress\n",
      "drewlewis is a person of interest - resign\n",
      "kirstjennielsen is a person of interest - scandal\n",
      "nicholasfbrady is a person of interest - resign\n",
      "wilburlross is a person of interest - fired\n",
      "abrahamlincoln is a person of interest - resign\n",
      "dickthornburgh is a person of interest - resign\n",
      "robertreich is a person of interest - fired\n",
      "williamjperry is a person of interest - scandal\n",
      "madeleinealbright is a person of interest - corruption\n",
      "janetnapolitano is a person of interest - scandal\n",
      "condoleezzarice is a person of interest - resign\n",
      "edwardbates is a person of interest - fired\n",
      "jimmattis is a person of interest - sex\n",
      "ericholder is a person of interest - scandal\n",
      "christinetoddwhitman is a person of interest - scandal\n",
      "roberterubin is a person of interest - resign\n",
      "jehjohnson is a person of interest - corruption\n",
      "johnfkelly is a person of interest - resign\n",
      "tomdonilon is a person of interest - corruption\n",
      "henrygcisneros is a person of interest - resign\n",
      "shaundonovan is a person of interest - fired\n",
      "stephenhadley is a person of interest - scandal\n",
      "pennypritzker is a person of interest - fired\n",
      "casparweinberger is a person of interest - resign\n",
      "billbrock is a person of interest - scandal\n",
      "chuckhagel is a person of interest - resign\n",
      "andrewhcard is a person of interest - scandal\n",
      "henrympaulsonjr is a person of interest - scandal\n",
      "lisapjackson is a person of interest - fired\n",
      "scottpruitt is a person of interest - resign\n",
      "donaldlevans is a person of interest - drugs\n",
      "rextillerson is a person of interest - fired\n",
      "johnkerry is a person of interest - scandal\n",
      "tomridge is a person of interest - resign\n",
      "carolbrowner is a person of interest - fired\n",
      "kathleensebelius is a person of interest - resign\n",
      "cdouglasdillon is a person of interest - resign\n",
      "louisfreeh is a person of interest - resign\n",
      "colinpowell is a person of interest - resign\n",
      "zbigniewbrzezinski is a person of interest - resign\n",
      "melmartinez is a person of interest - scandal\n",
      "susanrice is a person of interest - scandal\n",
      "johnwsnow is a person of interest - resign\n",
      "ashcarter is a person of interest - sex\n",
      "joebiden is a person of interest - corruption\n",
      "jamescomey is a person of interest - resign\n",
      "robertfkennedy is a person of interest - resign\n",
      "elizabethdole is a person of interest - scandal\n",
      "tommygthompson is a person of interest - resign\n",
      "donaldtrump is a person of interest - scandal\n",
      "juliancastro is a person of interest - sex\n",
      "robertamosbacher is a person of interest - resign\n",
      "mikeleavitt is a person of interest - scandal\n",
      "timothyfgeithner is a person of interest - scandal\n",
      "williamkreilly is a person of interest - fired\n",
      "williamscohen is a person of interest - fired\n",
      "robertmueller is a person of interest - resign\n",
      "alexisherman is a person of interest - scandal\n",
      "donaldtregan is a person of interest - resign\n",
      "williammdaley is a person of interest - resign\n",
      "margaretmheckler is a person of interest - drugs\n",
      "hannibalhamlin is a person of interest - fired\n",
      "hughmcculloch is a person of interest - resign\n",
      "ginamccarthy is a person of interest - fired\n",
      "maryepeters is a person of interest - scandal\n",
      "donnashalala is a person of interest - fired\n",
      "leemthomas is a person of interest - resign\n",
      "lloydbentsen is a person of interest - resign\n",
      "mickeykantor is a person of interest - corruption\n",
      "williampclarkjr is a person of interest - resign\n",
      "anthonyrfoxx is a person of interest - resign\n",
      "hillaryclinton is a person of interest - scandal\n",
      "jimmycarter is a person of interest - resign\n",
      "lorettalynch is a person of interest - sex\n",
      "january is a person of interest - sex\n",
      "albertogonzales is a person of interest - fired\n",
      "barbarahfranklin is a person of interest - scandal\n",
      "danquayle is a person of interest - sex\n",
      "michaelmukasey is a person of interest - scandal\n",
      "hildasolis is a person of interest - fired\n",
      "rodneyeslater is a person of interest - fired\n",
      "richardsschweiker is a person of interest - scandal\n",
      "dickcheney is a person of interest - resign\n",
      "stephenljohnson is a person of interest - resign\n",
      "hrmcmaster is a person of interest - sex\n",
      "jamesbaker is a person of interest - sex\n",
      "cwilliamverityjr is a person of interest - resign\n",
      "salmonpchase is a person of interest - resign\n",
      "sandyberger is a person of interest - fired\n",
      "richardvallen is a person of interest - resign\n",
      "williamhwebster is a person of interest - scandal\n",
      "samuelrpierce is a person of interest - resign\n",
      "steventmnuchin is a person of interest - resign\n",
      "christopherawray is a person of interest - fired\n",
      "raymondjdonovan is a person of interest - sex\n",
      "frankcarlucci is a person of interest - resign\n",
      "jackfkemp is a person of interest - sex\n",
      "michaelflynn is a person of interest - fired\n",
      "alexazar is a person of interest - sex\n",
      "andrewmcuomo is a person of interest - scandal\n"
     ]
    }
   ],
   "source": [
    "###  Finding Politicians of Interest with Specified Keywords  ###\n",
    "\n",
    "words_of_interest = ['scandal','resign', 'fired', 'sex', 'drugs', 'corruption', 'mistress']\n",
    "ppl_of_interest = []\n",
    "for name in collection_names:\n",
    "    done = False\n",
    "    for text in text_lemmas[name]:\n",
    "        for word in words_of_interest:\n",
    "            if word in text:\n",
    "                ppl_of_interest.append(name)\n",
    "                print(f'{name} is a person of interest', end=' - ')\n",
    "                print(word)\n",
    "                done = True\n",
    "                break\n",
    "        if done:\n",
    "            break"
   ]
  },
  {
   "cell_type": "code",
   "execution_count": 6,
   "metadata": {},
   "outputs": [
    {
     "data": {
      "text/plain": [
       "144"
      ]
     },
     "execution_count": 6,
     "metadata": {},
     "output_type": "execute_result"
    }
   ],
   "source": [
    "len(ppl_of_interest)"
   ]
  },
  {
   "cell_type": "code",
   "execution_count": 7,
   "metadata": {
    "scrolled": true
   },
   "outputs": [
    {
     "data": {
      "text/plain": [
       "[(1027, 'janetreno'),\n",
       " (589, 'mikepence'),\n",
       " (513, 'albertogonzales'),\n",
       " (461, 'dickcheney'),\n",
       " (356, 'danquayle'),\n",
       " (338, 'billclinton'),\n",
       " (306, 'johnashcroft'),\n",
       " (288, 'condoleezzarice'),\n",
       " (273, 'williamfrenchsmith'),\n",
       " (263, 'johnkerry'),\n",
       " (255, 'ronaldreagan'),\n",
       " (254, 'edwinmeese'),\n",
       " (250, 'jedgarhoover'),\n",
       " (247, 'abrahamlincoln'),\n",
       " (233, 'rextillerson'),\n",
       " (227, 'hrmcmaster'),\n",
       " (220, 'cdouglasdillon'),\n",
       " (201, 'warrenchristopher'),\n",
       " (196, 'williamscohen'),\n",
       " (172, 'williamhwebster'),\n",
       " (171, 'roberterubin'),\n",
       " (167, 'georgewbush'),\n",
       " (162, 'dickthornburgh'),\n",
       " (157, 'colinpowell'),\n",
       " (149, 'raymondjdonovan'),\n",
       " (140, 'ericholder'),\n",
       " (138, 'kathleensebelius'),\n",
       " (129, 'williamjperry'),\n",
       " (129, 'scottpruitt'),\n",
       " (119, 'donaldtrump'),\n",
       " (114, 'january'),\n",
       " (113, 'lloydbentsen'),\n",
       " (102, 'madeleinealbright'),\n",
       " (101, 'jamescomey'),\n",
       " (98, 'bencarson'),\n",
       " (97, 'louisfreeh'),\n",
       " (96, 'christopherawray'),\n",
       " (88, 'donnashalala'),\n",
       " (87, 'anthonylake'),\n",
       " (84, 'lorettalynch'),\n",
       " (84, 'jackfkemp'),\n",
       " (81, 'jacobjlew'),\n",
       " (79, 'johnwsnow'),\n",
       " (77, 'williamssessions'),\n",
       " (76, 'tomridge'),\n",
       " (75, 'tommygthompson'),\n",
       " (74, 'jamesbaker'),\n",
       " (71, 'janetnapolitano'),\n",
       " (68, 'mikepompeo'),\n",
       " (64, 'michaelmukasey'),\n",
       " (63, 'williamhseward'),\n",
       " (63, 'robertmgates'),\n",
       " (62, 'jehjohnson'),\n",
       " (59, 'howardbaker'),\n",
       " (55, 'richardsschweiker'),\n",
       " (53, 'tomprice'),\n",
       " (50, 'casparweinberger'),\n",
       " (50, 'robertfkennedy'),\n",
       " (46, 'henrygcisneros'),\n",
       " (43, 'donaldregan'),\n",
       " (43, 'johnrbolton'),\n",
       " (42, 'nicholasfbrady'),\n",
       " (42, 'billbrock'),\n",
       " (41, 'otisrbowen'),\n",
       " (38, 'johnfkelly'),\n",
       " (38, 'donaldlevans'),\n",
       " (38, 'joebiden'),\n",
       " (37, 'andrewmcuomo'),\n",
       " (36, 'samuelrpierce'),\n",
       " (35, 'robertreich'),\n",
       " (35, 'margaretmheckler'),\n",
       " (32, 'ronaldhbrown'),\n",
       " (32, 'richardvallen'),\n",
       " (31, 'shaundonovan'),\n",
       " (31, 'robertamosbacher'),\n",
       " (31, 'williampclarkjr'),\n",
       " (30, 'barackobama'),\n",
       " (30, 'stephenhadley'),\n",
       " (30, 'chuckhagel'),\n",
       " (29, 'drewlewis'),\n",
       " (29, 'henrympaulsonjr'),\n",
       " (29, 'robertmueller'),\n",
       " (26, 'mickeykantor'),\n",
       " (24, 'michaelchertoff'),\n",
       " (24, 'carolbrowner'),\n",
       " (23, 'michaeloleavitt'),\n",
       " (22, 'leonpanetta'),\n",
       " (21, 'samuelkskinner'),\n",
       " (21, 'frankcarlucci'),\n",
       " (20, 'algore'),\n",
       " (20, 'lawrencehsummers'),\n",
       " (19, 'sylviamathewsburwell'),\n",
       " (19, 'tomdonilon'),\n",
       " (19, 'hillaryclinton'),\n",
       " (18, 'kirstjennielsen'),\n",
       " (18, 'pennypritzker'),\n",
       " (17, 'jimmattis'),\n",
       " (17, 'ginamccarthy'),\n",
       " (16, 'susanrice'),\n",
       " (13, 'maryepeters'),\n",
       " (12, 'edwardbates'),\n",
       " (12, 'timothyfgeithner'),\n",
       " (11, 'malcolmbaldrige'),\n",
       " (11, 'elizabethdole'),\n",
       " (11, 'williammdaley'),\n",
       " (10, 'lisapjackson'),\n",
       " (9, 'elainechao'),\n",
       " (9, 'alexisherman'),\n",
       " (8, 'elizabethhdole'),\n",
       " (8, 'wilburlross'),\n",
       " (8, 'melmartinez'),\n",
       " (8, 'williamkreilly'),\n",
       " (7, 'carlosmgutierrez'),\n",
       " (7, 'mcgeorgebundy'),\n",
       " (7, 'christinetoddwhitman'),\n",
       " (6, 'williampbarr'),\n",
       " (6, 'juliancastro'),\n",
       " (6, 'donaldtregan'),\n",
       " (6, 'steventmnuchin'),\n",
       " (5, 'anndoremclaughlin'),\n",
       " (5, 'sandyberger'),\n",
       " (4, 'ashcarter'),\n",
       " (4, 'hughmcculloch'),\n",
       " (4, 'hildasolis'),\n",
       " (4, 'rodneyeslater'),\n",
       " (4, 'alexazar'),\n",
       " (3, 'zbigniewbrzezinski'),\n",
       " (3, 'mikeleavitt'),\n",
       " (3, 'stephenljohnson'),\n",
       " (2, 'lutherhhodges'),\n",
       " (2, 'normanymineta'),\n",
       " (2, 'leemthomas'),\n",
       " (2, 'barbarahfranklin'),\n",
       " (2, 'salmonpchase'),\n",
       " (1, 'gwilliammiller'),\n",
       " (1, 'andrewhcard'),\n",
       " (1, 'hannibalhamlin'),\n",
       " (1, 'jimmycarter'),\n",
       " (1, 'cwilliamverityjr'),\n",
       " (1, 'michaelflynn'),\n",
       " (0, 'garyflocke'),\n",
       " (0, 'jamesspeed'),\n",
       " (0, 'johnpoindexter'),\n",
       " (0, 'anthonyrfoxx')]"
      ]
     },
     "execution_count": 7,
     "metadata": {},
     "output_type": "execute_result"
    }
   ],
   "source": [
    "###  Finding the frequency of keywords in corpora of politicians  ###\n",
    "\n",
    "counts = []\n",
    "\n",
    "for name in ppl_of_interest:\n",
    "    scandalcount = 0\n",
    "    for item in text_lemmas[name]:\n",
    "        for token in item.split():\n",
    "            if token in words_of_interest:\n",
    "                scandalcount += 1\n",
    "    counts.append((scandalcount,name))\n",
    "\n",
    "counts.sort(key=lambda x: x[0],reverse=True)\n",
    "\n",
    "counts"
   ]
  },
  {
   "cell_type": "code",
   "execution_count": 14,
   "metadata": {},
   "outputs": [],
   "source": [
    "###  Functions used to plot, clean data ###\n",
    "\n",
    "def pub_date_to_datetime(s):\n",
    "    s = s[:10]\n",
    "    l = s.split('-')\n",
    "    d = datetime.date(year=int(l[0]),month=int(l[1]),day=int(l[2]))\n",
    "    return d\n",
    "\n",
    "def plot_keywords(name):\n",
    "    dates = []\n",
    "    counts = []\n",
    "    words_of_interest = ['scandal','resign']\n",
    "    for item in db[name].find():\n",
    "        scandalcount = 0\n",
    "        try:\n",
    "            for word in item['full_text'].split():\n",
    "                if word in words_of_interest:\n",
    "                    scandalcount += 1\n",
    "            counts.append(scandalcount)\n",
    "            dates.append(pub_date_to_datetime(item['pub_date']).year + pub_date_to_datetime(item['pub_date']).month/12)\n",
    "        except:\n",
    "            pass\n",
    "    df = pd.DataFrame({'dates':dates,'counts':counts})\n",
    "    df = df.groupby(by='dates',as_index=False).sum()\n",
    "    x = df.dates\n",
    "    y = df.counts\n",
    "    sns.scatterplot(x=x,y=y)\n",
    "    plt.title('Keyword Frequency')\n",
    "    plt.show()\n",
    "    \n",
    "def plot_sentiment(name):\n",
    "    tuplist = []\n",
    "    analyzer = SentimentIntensityAnalyzer()\n",
    "    for item in db[name].find():\n",
    "        try:\n",
    "            sent = analyzer.polarity_scores(item['full_text'])['compound']\n",
    "            tuplist.append((pub_date_to_datetime(item['pub_date']),sent))\n",
    "        except:\n",
    "            pass\n",
    "    tuplist.sort(key=lambda x:x[0])\n",
    "    divisor = len(tuplist)//30\n",
    "    if divisor < 4:\n",
    "        divisor = 4\n",
    "    dates = []\n",
    "    aves = []\n",
    "    running_tot = 0\n",
    "    count = 0\n",
    "    for i,item in enumerate(tuplist):\n",
    "        running_tot += item[1]\n",
    "        count += 1\n",
    "        if i >= divisor-1:\n",
    "            running_tot -= tuplist[i-(divisor-1)][1]\n",
    "            aves.append(running_tot/divisor)\n",
    "        else:\n",
    "            aves.append(running_tot/count)\n",
    "        dates.append(item[0])\n",
    "    sns.lineplot(x=dates,y=aves, err_style=None)\n",
    "    plt.title('Sentiment Over Time')\n",
    "    plt.show()\n",
    "    \n",
    "def plot_frequency(name):\n",
    "    months = []\n",
    "    for item in db[name].find():\n",
    "        months.append(pub_date_to_datetime(item['pub_date']).year + pub_date_to_datetime(item['pub_date']).month/12)\n",
    "    sns.distplot(months, bins=len(set(months)))\n",
    "    plt.title('Frequency of Article Mentions')\n",
    "    plt.show()\n",
    "    \n"
   ]
  },
  {
   "cell_type": "code",
   "execution_count": 19,
   "metadata": {},
   "outputs": [],
   "source": [
    "###  Following Cells plot the name stored showing thier:  ###\n",
    "###  Frequency of Keywords\n",
    "###  Frequency of Articles published\n",
    "###  Rolling Average Sentiment\n",
    "\n",
    "plot_name = 'scottpruitt'"
   ]
  },
  {
   "cell_type": "code",
   "execution_count": 20,
   "metadata": {},
   "outputs": [
    {
     "data": {
      "image/png": "[encoded data removed]",
      "text/plain": [
       "<Figure size 432x288 with 1 Axes>"
      ]
     },
     "metadata": {
      "needs_background": "light"
     },
     "output_type": "display_data"
    }
   ],
   "source": [
    "plot_keywords(plot_name)"
   ]
  },
  {
   "cell_type": "code",
   "execution_count": 21,
   "metadata": {},
   "outputs": [
    {
     "data": {
      "image/png": "[encoded data removed]",
      "text/plain": [
       "<Figure size 432x288 with 1 Axes>"
      ]
     },
     "metadata": {
      "needs_background": "light"
     },
     "output_type": "display_data"
    }
   ],
   "source": [
    "plot_frequency(plot_name)"
   ]
  },
  {
   "cell_type": "code",
   "execution_count": 22,
   "metadata": {},
   "outputs": [
    {
     "data": {
      "image/png": "[encoded data removed]",
      "text/plain": [
       "<Figure size 432x288 with 1 Axes>"
      ]
     },
     "metadata": {
      "needs_background": "light"
     },
     "output_type": "display_data"
    }
   ],
   "source": [
    "plot_sentiment(plot_name)"
   ]
  },
  {
   "cell_type": "code",
   "execution_count": null,
   "metadata": {},
   "outputs": [],
   "source": []
  },
  {
   "cell_type": "code",
   "execution_count": 13,
   "metadata": {},
   "outputs": [
    {
     "ename": "FileNotFoundError",
     "evalue": "[Errno 2] No such file or directory: 'pol_df.pkl'",
     "output_type": "error",
     "traceback": [
      "\u001b[0;31m---------------------------------------------------------------------------\u001b[0m",
      "\u001b[0;31mFileNotFoundError\u001b[0m                         Traceback (most recent call last)",
      "\u001b[0;32m~/.local/lib/python3.6/site-packages/pandas/io/pickle.py\u001b[0m in \u001b[0;36mtry_read\u001b[0;34m(path, encoding)\u001b[0m\n\u001b[1;32m    165\u001b[0m                 \u001b[0;31m# We want to silencce any warnings about, e.g. moved modules.\u001b[0m\u001b[0;34m\u001b[0m\u001b[0;34m\u001b[0m\u001b[0m\n\u001b[0;32m--> 166\u001b[0;31m                 \u001b[0;32mreturn\u001b[0m \u001b[0mread_wrapper\u001b[0m\u001b[0;34m(\u001b[0m\u001b[0;32mlambda\u001b[0m \u001b[0mf\u001b[0m\u001b[0;34m:\u001b[0m \u001b[0mpkl\u001b[0m\u001b[0;34m.\u001b[0m\u001b[0mload\u001b[0m\u001b[0;34m(\u001b[0m\u001b[0mf\u001b[0m\u001b[0;34m)\u001b[0m\u001b[0;34m)\u001b[0m\u001b[0;34m\u001b[0m\u001b[0m\n\u001b[0m\u001b[1;32m    167\u001b[0m         \u001b[0;32mexcept\u001b[0m \u001b[0mException\u001b[0m\u001b[0;34m:\u001b[0m\u001b[0;34m\u001b[0m\u001b[0m\n",
      "\u001b[0;32m~/.local/lib/python3.6/site-packages/pandas/io/pickle.py\u001b[0m in \u001b[0;36mread_wrapper\u001b[0;34m(func)\u001b[0m\n\u001b[1;32m    146\u001b[0m                             \u001b[0mcompression\u001b[0m\u001b[0;34m=\u001b[0m\u001b[0minferred_compression\u001b[0m\u001b[0;34m,\u001b[0m\u001b[0;34m\u001b[0m\u001b[0m\n\u001b[0;32m--> 147\u001b[0;31m                             is_text=False)\n\u001b[0m\u001b[1;32m    148\u001b[0m         \u001b[0;32mtry\u001b[0m\u001b[0;34m:\u001b[0m\u001b[0;34m\u001b[0m\u001b[0m\n",
      "\u001b[0;32m~/.local/lib/python3.6/site-packages/pandas/io/common.py\u001b[0m in \u001b[0;36m_get_handle\u001b[0;34m(path_or_buf, mode, encoding, compression, memory_map, is_text)\u001b[0m\n\u001b[1;32m    405\u001b[0m             \u001b[0;31m# Python 3 and binary mode\u001b[0m\u001b[0;34m\u001b[0m\u001b[0;34m\u001b[0m\u001b[0m\n\u001b[0;32m--> 406\u001b[0;31m             \u001b[0mf\u001b[0m \u001b[0;34m=\u001b[0m \u001b[0mopen\u001b[0m\u001b[0;34m(\u001b[0m\u001b[0mpath_or_buf\u001b[0m\u001b[0;34m,\u001b[0m \u001b[0mmode\u001b[0m\u001b[0;34m)\u001b[0m\u001b[0;34m\u001b[0m\u001b[0m\n\u001b[0m\u001b[1;32m    407\u001b[0m         \u001b[0mhandles\u001b[0m\u001b[0;34m.\u001b[0m\u001b[0mappend\u001b[0m\u001b[0;34m(\u001b[0m\u001b[0mf\u001b[0m\u001b[0;34m)\u001b[0m\u001b[0;34m\u001b[0m\u001b[0m\n",
      "\u001b[0;31mFileNotFoundError\u001b[0m: [Errno 2] No such file or directory: 'pol_df.pkl'",
      "\nDuring handling of the above exception, another exception occurred:\n",
      "\u001b[0;31mFileNotFoundError\u001b[0m                         Traceback (most recent call last)",
      "\u001b[0;32m~/.local/lib/python3.6/site-packages/pandas/io/pickle.py\u001b[0m in \u001b[0;36mtry_read\u001b[0;34m(path, encoding)\u001b[0m\n\u001b[1;32m    170\u001b[0m                 return read_wrapper(\n\u001b[0;32m--> 171\u001b[0;31m                     lambda f: pc.load(f, encoding=encoding, compat=False))\n\u001b[0m\u001b[1;32m    172\u001b[0m             \u001b[0;31m# compat pickle\u001b[0m\u001b[0;34m\u001b[0m\u001b[0;34m\u001b[0m\u001b[0m\n",
      "\u001b[0;32m~/.local/lib/python3.6/site-packages/pandas/io/pickle.py\u001b[0m in \u001b[0;36mread_wrapper\u001b[0;34m(func)\u001b[0m\n\u001b[1;32m    146\u001b[0m                             \u001b[0mcompression\u001b[0m\u001b[0;34m=\u001b[0m\u001b[0minferred_compression\u001b[0m\u001b[0;34m,\u001b[0m\u001b[0;34m\u001b[0m\u001b[0m\n\u001b[0;32m--> 147\u001b[0;31m                             is_text=False)\n\u001b[0m\u001b[1;32m    148\u001b[0m         \u001b[0;32mtry\u001b[0m\u001b[0;34m:\u001b[0m\u001b[0;34m\u001b[0m\u001b[0m\n",
      "\u001b[0;32m~/.local/lib/python3.6/site-packages/pandas/io/common.py\u001b[0m in \u001b[0;36m_get_handle\u001b[0;34m(path_or_buf, mode, encoding, compression, memory_map, is_text)\u001b[0m\n\u001b[1;32m    405\u001b[0m             \u001b[0;31m# Python 3 and binary mode\u001b[0m\u001b[0;34m\u001b[0m\u001b[0;34m\u001b[0m\u001b[0m\n\u001b[0;32m--> 406\u001b[0;31m             \u001b[0mf\u001b[0m \u001b[0;34m=\u001b[0m \u001b[0mopen\u001b[0m\u001b[0;34m(\u001b[0m\u001b[0mpath_or_buf\u001b[0m\u001b[0;34m,\u001b[0m \u001b[0mmode\u001b[0m\u001b[0;34m)\u001b[0m\u001b[0;34m\u001b[0m\u001b[0m\n\u001b[0m\u001b[1;32m    407\u001b[0m         \u001b[0mhandles\u001b[0m\u001b[0;34m.\u001b[0m\u001b[0mappend\u001b[0m\u001b[0;34m(\u001b[0m\u001b[0mf\u001b[0m\u001b[0;34m)\u001b[0m\u001b[0;34m\u001b[0m\u001b[0m\n",
      "\u001b[0;31mFileNotFoundError\u001b[0m: [Errno 2] No such file or directory: 'pol_df.pkl'",
      "\nDuring handling of the above exception, another exception occurred:\n",
      "\u001b[0;31mFileNotFoundError\u001b[0m                         Traceback (most recent call last)",
      "\u001b[0;32m~/.local/lib/python3.6/site-packages/pandas/io/pickle.py\u001b[0m in \u001b[0;36mread_pickle\u001b[0;34m(path, compression)\u001b[0m\n\u001b[1;32m    176\u001b[0m     \u001b[0;32mtry\u001b[0m\u001b[0;34m:\u001b[0m\u001b[0;34m\u001b[0m\u001b[0m\n\u001b[0;32m--> 177\u001b[0;31m         \u001b[0;32mreturn\u001b[0m \u001b[0mtry_read\u001b[0m\u001b[0;34m(\u001b[0m\u001b[0mpath\u001b[0m\u001b[0;34m)\u001b[0m\u001b[0;34m\u001b[0m\u001b[0m\n\u001b[0m\u001b[1;32m    178\u001b[0m     \u001b[0;32mexcept\u001b[0m\u001b[0;34m:\u001b[0m\u001b[0;34m\u001b[0m\u001b[0m\n",
      "\u001b[0;32m~/.local/lib/python3.6/site-packages/pandas/io/pickle.py\u001b[0m in \u001b[0;36mtry_read\u001b[0;34m(path, encoding)\u001b[0m\n\u001b[1;32m    174\u001b[0m                 return read_wrapper(\n\u001b[0;32m--> 175\u001b[0;31m                     lambda f: pc.load(f, encoding=encoding, compat=True))\n\u001b[0m\u001b[1;32m    176\u001b[0m     \u001b[0;32mtry\u001b[0m\u001b[0;34m:\u001b[0m\u001b[0;34m\u001b[0m\u001b[0m\n",
      "\u001b[0;32m~/.local/lib/python3.6/site-packages/pandas/io/pickle.py\u001b[0m in \u001b[0;36mread_wrapper\u001b[0;34m(func)\u001b[0m\n\u001b[1;32m    146\u001b[0m                             \u001b[0mcompression\u001b[0m\u001b[0;34m=\u001b[0m\u001b[0minferred_compression\u001b[0m\u001b[0;34m,\u001b[0m\u001b[0;34m\u001b[0m\u001b[0m\n\u001b[0;32m--> 147\u001b[0;31m                             is_text=False)\n\u001b[0m\u001b[1;32m    148\u001b[0m         \u001b[0;32mtry\u001b[0m\u001b[0;34m:\u001b[0m\u001b[0;34m\u001b[0m\u001b[0m\n",
      "\u001b[0;32m~/.local/lib/python3.6/site-packages/pandas/io/common.py\u001b[0m in \u001b[0;36m_get_handle\u001b[0;34m(path_or_buf, mode, encoding, compression, memory_map, is_text)\u001b[0m\n\u001b[1;32m    405\u001b[0m             \u001b[0;31m# Python 3 and binary mode\u001b[0m\u001b[0;34m\u001b[0m\u001b[0;34m\u001b[0m\u001b[0m\n\u001b[0;32m--> 406\u001b[0;31m             \u001b[0mf\u001b[0m \u001b[0;34m=\u001b[0m \u001b[0mopen\u001b[0m\u001b[0;34m(\u001b[0m\u001b[0mpath_or_buf\u001b[0m\u001b[0;34m,\u001b[0m \u001b[0mmode\u001b[0m\u001b[0;34m)\u001b[0m\u001b[0;34m\u001b[0m\u001b[0m\n\u001b[0m\u001b[1;32m    407\u001b[0m         \u001b[0mhandles\u001b[0m\u001b[0;34m.\u001b[0m\u001b[0mappend\u001b[0m\u001b[0;34m(\u001b[0m\u001b[0mf\u001b[0m\u001b[0;34m)\u001b[0m\u001b[0;34m\u001b[0m\u001b[0m\n",
      "\u001b[0;31mFileNotFoundError\u001b[0m: [Errno 2] No such file or directory: 'pol_df.pkl'",
      "\nDuring handling of the above exception, another exception occurred:\n",
      "\u001b[0;31mFileNotFoundError\u001b[0m                         Traceback (most recent call last)",
      "\u001b[0;32m~/.local/lib/python3.6/site-packages/pandas/io/pickle.py\u001b[0m in \u001b[0;36mtry_read\u001b[0;34m(path, encoding)\u001b[0m\n\u001b[1;32m    165\u001b[0m                 \u001b[0;31m# We want to silencce any warnings about, e.g. moved modules.\u001b[0m\u001b[0;34m\u001b[0m\u001b[0;34m\u001b[0m\u001b[0m\n\u001b[0;32m--> 166\u001b[0;31m                 \u001b[0;32mreturn\u001b[0m \u001b[0mread_wrapper\u001b[0m\u001b[0;34m(\u001b[0m\u001b[0;32mlambda\u001b[0m \u001b[0mf\u001b[0m\u001b[0;34m:\u001b[0m \u001b[0mpkl\u001b[0m\u001b[0;34m.\u001b[0m\u001b[0mload\u001b[0m\u001b[0;34m(\u001b[0m\u001b[0mf\u001b[0m\u001b[0;34m)\u001b[0m\u001b[0;34m)\u001b[0m\u001b[0;34m\u001b[0m\u001b[0m\n\u001b[0m\u001b[1;32m    167\u001b[0m         \u001b[0;32mexcept\u001b[0m \u001b[0mException\u001b[0m\u001b[0;34m:\u001b[0m\u001b[0;34m\u001b[0m\u001b[0m\n",
      "\u001b[0;32m~/.local/lib/python3.6/site-packages/pandas/io/pickle.py\u001b[0m in \u001b[0;36mread_wrapper\u001b[0;34m(func)\u001b[0m\n\u001b[1;32m    146\u001b[0m                             \u001b[0mcompression\u001b[0m\u001b[0;34m=\u001b[0m\u001b[0minferred_compression\u001b[0m\u001b[0;34m,\u001b[0m\u001b[0;34m\u001b[0m\u001b[0m\n\u001b[0;32m--> 147\u001b[0;31m                             is_text=False)\n\u001b[0m\u001b[1;32m    148\u001b[0m         \u001b[0;32mtry\u001b[0m\u001b[0;34m:\u001b[0m\u001b[0;34m\u001b[0m\u001b[0m\n",
      "\u001b[0;32m~/.local/lib/python3.6/site-packages/pandas/io/common.py\u001b[0m in \u001b[0;36m_get_handle\u001b[0;34m(path_or_buf, mode, encoding, compression, memory_map, is_text)\u001b[0m\n\u001b[1;32m    405\u001b[0m             \u001b[0;31m# Python 3 and binary mode\u001b[0m\u001b[0;34m\u001b[0m\u001b[0;34m\u001b[0m\u001b[0m\n\u001b[0;32m--> 406\u001b[0;31m             \u001b[0mf\u001b[0m \u001b[0;34m=\u001b[0m \u001b[0mopen\u001b[0m\u001b[0;34m(\u001b[0m\u001b[0mpath_or_buf\u001b[0m\u001b[0;34m,\u001b[0m \u001b[0mmode\u001b[0m\u001b[0;34m)\u001b[0m\u001b[0;34m\u001b[0m\u001b[0m\n\u001b[0m\u001b[1;32m    407\u001b[0m         \u001b[0mhandles\u001b[0m\u001b[0;34m.\u001b[0m\u001b[0mappend\u001b[0m\u001b[0;34m(\u001b[0m\u001b[0mf\u001b[0m\u001b[0;34m)\u001b[0m\u001b[0;34m\u001b[0m\u001b[0m\n",
      "\u001b[0;31mFileNotFoundError\u001b[0m: [Errno 2] No such file or directory: 'pol_df.pkl'",
      "\nDuring handling of the above exception, another exception occurred:\n",
      "\u001b[0;31mFileNotFoundError\u001b[0m                         Traceback (most recent call last)",
      "\u001b[0;32m~/.local/lib/python3.6/site-packages/pandas/io/pickle.py\u001b[0m in \u001b[0;36mtry_read\u001b[0;34m(path, encoding)\u001b[0m\n\u001b[1;32m    170\u001b[0m                 return read_wrapper(\n\u001b[0;32m--> 171\u001b[0;31m                     lambda f: pc.load(f, encoding=encoding, compat=False))\n\u001b[0m\u001b[1;32m    172\u001b[0m             \u001b[0;31m# compat pickle\u001b[0m\u001b[0;34m\u001b[0m\u001b[0;34m\u001b[0m\u001b[0m\n",
      "\u001b[0;32m~/.local/lib/python3.6/site-packages/pandas/io/pickle.py\u001b[0m in \u001b[0;36mread_wrapper\u001b[0;34m(func)\u001b[0m\n\u001b[1;32m    146\u001b[0m                             \u001b[0mcompression\u001b[0m\u001b[0;34m=\u001b[0m\u001b[0minferred_compression\u001b[0m\u001b[0;34m,\u001b[0m\u001b[0;34m\u001b[0m\u001b[0m\n\u001b[0;32m--> 147\u001b[0;31m                             is_text=False)\n\u001b[0m\u001b[1;32m    148\u001b[0m         \u001b[0;32mtry\u001b[0m\u001b[0;34m:\u001b[0m\u001b[0;34m\u001b[0m\u001b[0m\n",
      "\u001b[0;32m~/.local/lib/python3.6/site-packages/pandas/io/common.py\u001b[0m in \u001b[0;36m_get_handle\u001b[0;34m(path_or_buf, mode, encoding, compression, memory_map, is_text)\u001b[0m\n\u001b[1;32m    405\u001b[0m             \u001b[0;31m# Python 3 and binary mode\u001b[0m\u001b[0;34m\u001b[0m\u001b[0;34m\u001b[0m\u001b[0m\n\u001b[0;32m--> 406\u001b[0;31m             \u001b[0mf\u001b[0m \u001b[0;34m=\u001b[0m \u001b[0mopen\u001b[0m\u001b[0;34m(\u001b[0m\u001b[0mpath_or_buf\u001b[0m\u001b[0;34m,\u001b[0m \u001b[0mmode\u001b[0m\u001b[0;34m)\u001b[0m\u001b[0;34m\u001b[0m\u001b[0m\n\u001b[0m\u001b[1;32m    407\u001b[0m         \u001b[0mhandles\u001b[0m\u001b[0;34m.\u001b[0m\u001b[0mappend\u001b[0m\u001b[0;34m(\u001b[0m\u001b[0mf\u001b[0m\u001b[0;34m)\u001b[0m\u001b[0;34m\u001b[0m\u001b[0m\n",
      "\u001b[0;31mFileNotFoundError\u001b[0m: [Errno 2] No such file or directory: 'pol_df.pkl'",
      "\nDuring handling of the above exception, another exception occurred:\n",
      "\u001b[0;31mFileNotFoundError\u001b[0m                         Traceback (most recent call last)",
      "\u001b[0;32m<ipython-input-13-1360756e4867>\u001b[0m in \u001b[0;36m<module>\u001b[0;34m\u001b[0m\n\u001b[0;32m----> 1\u001b[0;31m \u001b[0mdf\u001b[0m \u001b[0;34m=\u001b[0m \u001b[0mpd\u001b[0m\u001b[0;34m.\u001b[0m\u001b[0mread_pickle\u001b[0m\u001b[0;34m(\u001b[0m\u001b[0;34m'pol_df.pkl'\u001b[0m\u001b[0;34m)\u001b[0m\u001b[0;34m\u001b[0m\u001b[0m\n\u001b[0m\u001b[1;32m      2\u001b[0m \u001b[0mdf\u001b[0m\u001b[0;34m.\u001b[0m\u001b[0mhead\u001b[0m\u001b[0;34m(\u001b[0m\u001b[0;34m)\u001b[0m\u001b[0;34m\u001b[0m\u001b[0m\n",
      "\u001b[0;32m~/.local/lib/python3.6/site-packages/pandas/io/pickle.py\u001b[0m in \u001b[0;36mread_pickle\u001b[0;34m(path, compression)\u001b[0m\n\u001b[1;32m    178\u001b[0m     \u001b[0;32mexcept\u001b[0m\u001b[0;34m:\u001b[0m\u001b[0;34m\u001b[0m\u001b[0m\n\u001b[1;32m    179\u001b[0m         \u001b[0;32mif\u001b[0m \u001b[0mPY3\u001b[0m\u001b[0;34m:\u001b[0m\u001b[0;34m\u001b[0m\u001b[0m\n\u001b[0;32m--> 180\u001b[0;31m             \u001b[0;32mreturn\u001b[0m \u001b[0mtry_read\u001b[0m\u001b[0;34m(\u001b[0m\u001b[0mpath\u001b[0m\u001b[0;34m,\u001b[0m \u001b[0mencoding\u001b[0m\u001b[0;34m=\u001b[0m\u001b[0;34m'latin1'\u001b[0m\u001b[0;34m)\u001b[0m\u001b[0;34m\u001b[0m\u001b[0m\n\u001b[0m\u001b[1;32m    181\u001b[0m         \u001b[0;32mraise\u001b[0m\u001b[0;34m\u001b[0m\u001b[0m\n\u001b[1;32m    182\u001b[0m \u001b[0;34m\u001b[0m\u001b[0m\n",
      "\u001b[0;32m~/.local/lib/python3.6/site-packages/pandas/io/pickle.py\u001b[0m in \u001b[0;36mtry_read\u001b[0;34m(path, encoding)\u001b[0m\n\u001b[1;32m    173\u001b[0m             \u001b[0;32mexcept\u001b[0m\u001b[0;34m:\u001b[0m\u001b[0;34m\u001b[0m\u001b[0m\n\u001b[1;32m    174\u001b[0m                 return read_wrapper(\n\u001b[0;32m--> 175\u001b[0;31m                     lambda f: pc.load(f, encoding=encoding, compat=True))\n\u001b[0m\u001b[1;32m    176\u001b[0m     \u001b[0;32mtry\u001b[0m\u001b[0;34m:\u001b[0m\u001b[0;34m\u001b[0m\u001b[0m\n\u001b[1;32m    177\u001b[0m         \u001b[0;32mreturn\u001b[0m \u001b[0mtry_read\u001b[0m\u001b[0;34m(\u001b[0m\u001b[0mpath\u001b[0m\u001b[0;34m)\u001b[0m\u001b[0;34m\u001b[0m\u001b[0m\n",
      "\u001b[0;32m~/.local/lib/python3.6/site-packages/pandas/io/pickle.py\u001b[0m in \u001b[0;36mread_wrapper\u001b[0;34m(func)\u001b[0m\n\u001b[1;32m    145\u001b[0m         f, fh = _get_handle(path, 'rb',\n\u001b[1;32m    146\u001b[0m                             \u001b[0mcompression\u001b[0m\u001b[0;34m=\u001b[0m\u001b[0minferred_compression\u001b[0m\u001b[0;34m,\u001b[0m\u001b[0;34m\u001b[0m\u001b[0m\n\u001b[0;32m--> 147\u001b[0;31m                             is_text=False)\n\u001b[0m\u001b[1;32m    148\u001b[0m         \u001b[0;32mtry\u001b[0m\u001b[0;34m:\u001b[0m\u001b[0;34m\u001b[0m\u001b[0m\n\u001b[1;32m    149\u001b[0m             \u001b[0;32mreturn\u001b[0m \u001b[0mfunc\u001b[0m\u001b[0;34m(\u001b[0m\u001b[0mf\u001b[0m\u001b[0;34m)\u001b[0m\u001b[0;34m\u001b[0m\u001b[0m\n",
      "\u001b[0;32m~/.local/lib/python3.6/site-packages/pandas/io/common.py\u001b[0m in \u001b[0;36m_get_handle\u001b[0;34m(path_or_buf, mode, encoding, compression, memory_map, is_text)\u001b[0m\n\u001b[1;32m    404\u001b[0m         \u001b[0;32melse\u001b[0m\u001b[0;34m:\u001b[0m\u001b[0;34m\u001b[0m\u001b[0m\n\u001b[1;32m    405\u001b[0m             \u001b[0;31m# Python 3 and binary mode\u001b[0m\u001b[0;34m\u001b[0m\u001b[0;34m\u001b[0m\u001b[0m\n\u001b[0;32m--> 406\u001b[0;31m             \u001b[0mf\u001b[0m \u001b[0;34m=\u001b[0m \u001b[0mopen\u001b[0m\u001b[0;34m(\u001b[0m\u001b[0mpath_or_buf\u001b[0m\u001b[0;34m,\u001b[0m \u001b[0mmode\u001b[0m\u001b[0;34m)\u001b[0m\u001b[0;34m\u001b[0m\u001b[0m\n\u001b[0m\u001b[1;32m    407\u001b[0m         \u001b[0mhandles\u001b[0m\u001b[0;34m.\u001b[0m\u001b[0mappend\u001b[0m\u001b[0;34m(\u001b[0m\u001b[0mf\u001b[0m\u001b[0;34m)\u001b[0m\u001b[0;34m\u001b[0m\u001b[0m\n\u001b[1;32m    408\u001b[0m \u001b[0;34m\u001b[0m\u001b[0m\n",
      "\u001b[0;31mFileNotFoundError\u001b[0m: [Errno 2] No such file or directory: 'pol_df.pkl'"
     ]
    }
   ],
   "source": [
    "df = pd.read_pickle('pol_df.pkl')\n",
    "df.head()"
   ]
  },
  {
   "cell_type": "code",
   "execution_count": null,
   "metadata": {
    "scrolled": true
   },
   "outputs": [],
   "source": [
    "### Fixing Party Affiliation  ###\n",
    "\n",
    "pres_df = df[df.Role == 'President']\n",
    "pres_df = pres_df[['Party','President']]\n",
    "#pres_df\n",
    "map_dict = {}\n",
    "for entry in pres_df.values:\n",
    "    map_dict[entry[1]] = entry[0]\n",
    "#map_dict"
   ]
  },
  {
   "cell_type": "code",
   "execution_count": null,
   "metadata": {},
   "outputs": [],
   "source": [
    "parties = []\n",
    "for entry in df.values:\n",
    "    if entry[4] in map_dict.keys():\n",
    "        entry[3] = map_dict[entry[4]]\n",
    "        parties.append(entry[3])\n",
    "    else:\n",
    "        parties.append('Not Available')\n",
    "df['Party'] = parties"
   ]
  },
  {
   "cell_type": "code",
   "execution_count": null,
   "metadata": {},
   "outputs": [],
   "source": [
    "#df"
   ]
  },
  {
   "cell_type": "code",
   "execution_count": null,
   "metadata": {},
   "outputs": [],
   "source": []
  },
  {
   "cell_type": "code",
   "execution_count": null,
   "metadata": {},
   "outputs": [],
   "source": [
    "labels = open('Labels.txt', 'r')\n",
    "labs = [s[-2] for s in labels]\n",
    "#labs"
   ]
  },
  {
   "cell_type": "code",
   "execution_count": null,
   "metadata": {},
   "outputs": [],
   "source": [
    "labels = open('Labels.txt', 'r')\n",
    "names = []\n",
    "for line in labels:\n",
    "    names.append(line.split(\"'\")[1])"
   ]
  },
  {
   "cell_type": "code",
   "execution_count": null,
   "metadata": {},
   "outputs": [],
   "source": [
    "#names"
   ]
  },
  {
   "cell_type": "code",
   "execution_count": null,
   "metadata": {},
   "outputs": [],
   "source": [
    "print(len(names), len(labs))"
   ]
  },
  {
   "cell_type": "code",
   "execution_count": null,
   "metadata": {
    "scrolled": true
   },
   "outputs": [],
   "source": [
    "#df_sub = df[df.collectionname in ppl_of_interest]\n",
    "#df_sub\n",
    "mapper = pd.DataFrame({'collectionname':names,'label':labs})\n",
    "mapper.label = mapper.label.apply(lambda x: '0' if x != '1' else x)\n",
    "#mapper"
   ]
  },
  {
   "cell_type": "code",
   "execution_count": null,
   "metadata": {
    "scrolled": true
   },
   "outputs": [],
   "source": [
    "rest = set(df.collectionname) - set(mapper.collectionname)\n",
    "\n",
    "first_set = [value for value in mapper.collectionname]\n",
    "first_labs = labs\n",
    "\n",
    "sec_set = [name for name in rest]\n",
    "sec_labs = [0 for _ in range(len(rest))]\n",
    "\n",
    "for i in range(len(sec_set)):\n",
    "    first_set.append(sec_set[i])\n",
    "    first_labs.append(sec_labs[i])\n",
    "    \n",
    "mapper = pd.DataFrame({'collectionname':first_set,'label':first_labs})\n",
    "#mapper"
   ]
  },
  {
   "cell_type": "code",
   "execution_count": null,
   "metadata": {},
   "outputs": [],
   "source": [
    "df = pd.merge(df,mapper,on='collectionname')\n",
    "df.label = df.label.apply(lambda x: '0' if x==',' else x)\n",
    "df.label = df.label.apply(lambda x: '0' if x==\"'\" else x)\n",
    "df.label = df.label.apply(lambda x: '0' if x==\" \" else x)\n",
    "df.label = df.label.apply(lambda x: int(x))\n",
    "df = df[df.label < 2]\n",
    "#df"
   ]
  },
  {
   "cell_type": "code",
   "execution_count": null,
   "metadata": {},
   "outputs": [],
   "source": [
    "df.groupby(by='label').count()"
   ]
  },
  {
   "cell_type": "code",
   "execution_count": null,
   "metadata": {},
   "outputs": [],
   "source": [
    "pos = df[df.label == 1]\n",
    "count = 0\n",
    "for name in pos.collectionname:\n",
    "    try:\n",
    "        count += len(texts[name])\n",
    "    except:\n",
    "        pass\n",
    "count"
   ]
  },
  {
   "cell_type": "code",
   "execution_count": null,
   "metadata": {},
   "outputs": [],
   "source": [
    "neg = df[df.label == 0]\n",
    "count = 0\n",
    "for name in neg.collectionname:\n",
    "    try:\n",
    "        count += len(texts[name])\n",
    "    except:\n",
    "        pass\n",
    "count"
   ]
  },
  {
   "cell_type": "markdown",
   "metadata": {},
   "source": [
    "## Train - Test Splitting the Data\n",
    "\n",
    "I will select 4 positive class politicians (by hand) and 73 negative class politicians (randomly) to create a holdout set.  Though the act of selcting the test set will impose my own bias on the models, it will overcome the (debatably) bigger problem of testing on irrelevant politicians. To maximize the relevance/randomness balance, I will randomly choose 2 politicians from the Trump administration, 1 from the Obama admin., and 1 from the George W. Bush admin.\n",
    "\n",
    "**Note - Do not run these cells more than once, commented out for safety**"
   ]
  },
  {
   "cell_type": "code",
   "execution_count": null,
   "metadata": {},
   "outputs": [],
   "source": [
    "# bush_df = df[df.President == 'George W. Bush']\n",
    "# bush_df = bush_df[bush_df.label == 1]\n",
    "# #bush_df\n",
    "\n",
    "# rn = random.randint(0,4)\n",
    "# bush_test_row = bush_df.values[rn]\n",
    "\n",
    "# bush_test_row\n",
    "\n",
    "# obama_df = df[df.President == 'Barack Obama']\n",
    "# obama_df = obama_df[obama_df.label == 1]\n",
    "# obama_df\n",
    "\n",
    "# rn = random.randint(0,1)\n",
    "# obama_test_row = obama_df.values[rn]\n",
    "\n",
    "# obama_test_row\n",
    "\n",
    "# trump_df = df[df.President == 'Donald Trump']\n",
    "# trump_df = trump_df[trump_df.label == 1]\n",
    "# trump_df\n",
    "\n",
    "# rn1 = random.randint(0,2)\n",
    "# rn2 = random.randint(0,2)\n",
    "# trump_test_row1 = trump_df.values[rn1]\n",
    "# trump_test_row2 = trump_df.values[rn2]\n",
    "\n",
    "# trump_test_row1\n",
    "\n",
    "# trump_test_row2\n",
    "\n",
    "# df_test = pd.DataFrame([bush_test_row,obama_test_row,trump_test_row1,trump_test_row2])\n",
    "# df_test.columns = df.columns\n",
    "# df_test"
   ]
  },
  {
   "cell_type": "code",
   "execution_count": null,
   "metadata": {},
   "outputs": [],
   "source": [
    "# xtestpos = pd.read_pickle('pos_test_df')\n",
    "# xtestpos['Party'] = ['Republican', 'Democratic','Republican','Republican']\n",
    "# xtestpos"
   ]
  },
  {
   "cell_type": "code",
   "execution_count": null,
   "metadata": {},
   "outputs": [],
   "source": [
    "# pd.to_pickle(xtestpos,'pos_test_df')"
   ]
  },
  {
   "cell_type": "markdown",
   "metadata": {},
   "source": [
    "## Generating the negative class test set\n",
    "\n",
    "Generating 75 random integer indices and grabbing them from the negative class dataframe"
   ]
  },
  {
   "cell_type": "code",
   "execution_count": null,
   "metadata": {},
   "outputs": [],
   "source": [
    "# neg"
   ]
  },
  {
   "cell_type": "code",
   "execution_count": null,
   "metadata": {},
   "outputs": [],
   "source": [
    "# neg_test = neg.reset_index()\n",
    "# neg_test = neg_test.drop('index',axis=1)\n",
    "# neg_test"
   ]
  },
  {
   "cell_type": "code",
   "execution_count": null,
   "metadata": {},
   "outputs": [],
   "source": [
    "# rns = [random.randint(0,447) for _ in range(80)]\n",
    "# print(len(rns),len(set(rns)))"
   ]
  },
  {
   "cell_type": "code",
   "execution_count": null,
   "metadata": {
    "scrolled": true
   },
   "outputs": [],
   "source": [
    "# rns.sort()\n",
    "# rns"
   ]
  },
  {
   "cell_type": "code",
   "execution_count": null,
   "metadata": {},
   "outputs": [],
   "source": [
    "# neg_test = neg_test.iloc[list(set(rns))]\n",
    "# neg_test = neg_test.reset_index()\n",
    "# neg_test = neg_test.drop('index',axis=1)\n",
    "# neg_test"
   ]
  },
  {
   "cell_type": "code",
   "execution_count": null,
   "metadata": {},
   "outputs": [],
   "source": [
    "# pd.to_pickle(neg_test, 'neg_test_df.pkl')"
   ]
  },
  {
   "cell_type": "code",
   "execution_count": null,
   "metadata": {},
   "outputs": [],
   "source": [
    "# test_df = pd.concat([xtestpos,neg_test])\n",
    "\n",
    "# test_df = test_df.reset_index()\n",
    "# test_df = test_df.drop('index',axis=1)\n",
    "# test_df"
   ]
  },
  {
   "cell_type": "code",
   "execution_count": null,
   "metadata": {},
   "outputs": [],
   "source": [
    "# pd.to_pickle(test_df,'test_df.pkl')"
   ]
  },
  {
   "cell_type": "code",
   "execution_count": null,
   "metadata": {},
   "outputs": [],
   "source": [
    "# train_df = df\n",
    "# for name in test_df.collectionname:\n",
    "#     train_df = train_df[train_df.collectionname != name]"
   ]
  },
  {
   "cell_type": "code",
   "execution_count": null,
   "metadata": {},
   "outputs": [],
   "source": [
    "# pd.to_pickle(train_df,'train_df.pkl')"
   ]
  },
  {
   "cell_type": "code",
   "execution_count": null,
   "metadata": {},
   "outputs": [],
   "source": []
  }
 ],
 "metadata": {
  "kernelspec": {
   "display_name": "Python 3",
   "language": "python",
   "name": "python3"
  },
  "language_info": {
   "codemirror_mode": {
    "name": "ipython",
    "version": 3
   },
   "file_extension": ".py",
   "mimetype": "text/x-python",
   "name": "python",
   "nbconvert_exporter": "python",
   "pygments_lexer": "ipython3",
   "version": "3.6.6"
  }
 },
 "nbformat": 4,
 "nbformat_minor": 2
}
